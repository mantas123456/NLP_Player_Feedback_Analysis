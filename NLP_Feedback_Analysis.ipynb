{
 "cells": [
  {
   "cell_type": "markdown",
   "id": "595c88f3",
   "metadata": {},
   "source": [
    "# 🧠 NLP Player Feedback Analysis (iGaming)\n",
    "This notebook processes player feedback using NLP techniques including tokenization, lemmatization, named entity recognition, and sentiment analysis. It also visualizes results."
   ]
  },
  {
   "cell_type": "code",
   "execution_count": null,
   "id": "b2019bc1",
   "metadata": {},
   "outputs": [],
   "source": [
    "# 1️⃣ Imports and setup\n",
    "import pandas as pd\n",
    "import spacy\n",
    "from textblob import TextBlob\n",
    "import matplotlib.pyplot as plt\n",
    "from collections import Counter\n",
    "import os\n",
    "\n",
    "# Load spaCy model\n",
    "nlp = spacy.load(\"en_core_web_sm\")\n",
    "os.makedirs(\"outputs\", exist_ok=True)"
   ]
  },
  {
   "cell_type": "code",
   "execution_count": null,
   "id": "83501ecf",
   "metadata": {},
   "outputs": [],
   "source": [
    "# 2️⃣ Load the dataset\n",
    "input_path = \"data/feedback.csv\"\n",
    "df = pd.read_csv(input_path)\n",
    "df.head()"
   ]
  },
  {
   "cell_type": "code",
   "execution_count": null,
   "id": "740e7c03",
   "metadata": {},
   "outputs": [],
   "source": [
    "# 3️⃣ Process feedback: tokens, NER, sentiment\n",
    "processed_data = []\n",
    "all_tokens = []\n",
    "all_ents = []\n",
    "\n",
    "for _, row in df.iterrows():\n",
    "    text = row['feedback']\n",
    "    doc = nlp(text)\n",
    "\n",
    "    tokens = [token.lemma_ for token in doc if not token.is_stop and token.is_alpha]\n",
    "    all_tokens.extend(tokens)\n",
    "\n",
    "    entities = [(ent.text, ent.label_) for ent in doc.ents]\n",
    "    all_ents.extend([ent.label_ for ent in doc.ents])\n",
    "\n",
    "    blob = TextBlob(text)\n",
    "    polarity = round(blob.sentiment.polarity, 3)\n",
    "    sentiment = (\n",
    "        \"positive\" if polarity > 0.1 else\n",
    "        \"negative\" if polarity < -0.1 else\n",
    "        \"neutral\"\n",
    "    )\n",
    "\n",
    "    processed_data.append({\n",
    "        \"id\": row['id'],\n",
    "        \"original_feedback\": text,\n",
    "        \"cleaned_tokens\": \" \".join(tokens),\n",
    "        \"named_entities\": \"; \".join([f\"{e[0]} ({e[1]})\" for e in entities]),\n",
    "        \"sentiment_score\": polarity,\n",
    "        \"sentiment_label\": sentiment\n",
    "    })\n",
    "\n",
    "output_df = pd.DataFrame(processed_data)\n",
    "output_df.head()"
   ]
  },
  {
   "cell_type": "code",
   "execution_count": null,
   "id": "6c25407d",
   "metadata": {},
   "outputs": [],
   "source": [
    "# 4️⃣ Save output to CSV\n",
    "output_path = \"outputs/processed_feedback.csv\"\n",
    "output_df.to_csv(output_path, index=False)\n",
    "print(\"✅ Processed data saved.\")"
   ]
  },
  {
   "cell_type": "code",
   "execution_count": null,
   "id": "72eaa7a4",
   "metadata": {},
   "outputs": [],
   "source": [
    "# 5️⃣ Plot sentiment distribution\n",
    "sentiment_counts = output_df['sentiment_label'].value_counts()\n",
    "sentiment_counts.plot(kind='bar', color=['green', 'gray', 'red'])\n",
    "plt.title(\"Sentiment Distribution\")\n",
    "plt.xlabel(\"Sentiment\")\n",
    "plt.ylabel(\"Count\")\n",
    "plt.tight_layout()\n",
    "plt.savefig(\"outputs/sentiment_distribution.png\")\n",
    "plt.show()"
   ]
  },
  {
   "cell_type": "code",
   "execution_count": null,
   "id": "a7f401b9",
   "metadata": {},
   "outputs": [],
   "source": [
    "# 6️⃣ Top 10 most common tokens\n",
    "token_counts = Counter(all_tokens)\n",
    "common_tokens = token_counts.most_common(10)\n",
    "tokens, counts = zip(*common_tokens)\n",
    "plt.bar(tokens, counts)\n",
    "plt.title(\"Top 10 Most Common Tokens\")\n",
    "plt.xticks(rotation=45)\n",
    "plt.tight_layout()\n",
    "plt.savefig(\"outputs/common_tokens.png\")\n",
    "plt.show()"
   ]
  },
  {
   "cell_type": "code",
   "execution_count": null,
   "id": "92b4640d",
   "metadata": {},
   "outputs": [],
   "source": [
    "# 7️⃣ Named entity label frequency\n",
    "if all_ents:\n",
    "    entity_counts = Counter(all_ents)\n",
    "    labels, counts = zip(*entity_counts.items())\n",
    "    plt.bar(labels, counts, color=\"purple\")\n",
    "    plt.title(\"Named Entity Label Frequency\")\n",
    "    plt.xticks(rotation=45)\n",
    "    plt.tight_layout()\n",
    "    plt.savefig(\"outputs/named_entity_labels.png\")\n",
    "    plt.show()"
   ]
  }
 ],
 "metadata": {},
 "nbformat": 4,
 "nbformat_minor": 5
}
